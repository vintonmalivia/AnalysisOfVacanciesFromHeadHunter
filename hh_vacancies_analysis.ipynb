{
 "cells": [
  {
   "cell_type": "markdown",
   "id": "42289889-bd57-434e-9637-d3e354756316",
   "metadata": {
    "id": "42289889-bd57-434e-9637-d3e354756316"
   },
   "source": [
    "<center> <img src = https://raw.githubusercontent.com/AndreyRysistov/DatasetsForPandas/main/hh%20label.jpg alt=\"drawing\" style=\"width:400px;\">"
   ]
  },
  {
   "cell_type": "markdown",
   "id": "829cb75b-f14e-4ba8-9195-7ba929a7d656",
   "metadata": {
    "tags": [],
    "id": "829cb75b-f14e-4ba8-9195-7ba929a7d656"
   },
   "source": [
    "# <center> Проект: Анализ вакансий из HeadHunter\n",
    "   "
   ]
  },
  {
   "cell_type": "code",
   "execution_count": 1,
   "id": "dccfde33-2452-43fb-a8a5-5c6ebc02a71d",
   "metadata": {
    "id": "dccfde33-2452-43fb-a8a5-5c6ebc02a71d"
   },
   "outputs": [],
   "source": [
    "import pandas as pd\n",
    "import psycopg2\n",
    "import requests as requests\n",
    "from bs4 import BeautifulSoup\n",
    "import lxml"
   ]
  },
  {
   "cell_type": "code",
   "source": [
    "connection = psycopg2.connect(\n",
    "    dbname=DBNAME,\n",
    "    user=USER,\n",
    "    host=HOST,\n",
    "    password=PASSWORD,\n",
    "    port=PORT\n",
    ")"
   ],
   "metadata": {
    "id": "G4X_q8KBf7SF"
   },
   "id": "G4X_q8KBf7SF",
   "execution_count": 3,
   "outputs": []
  },
  {
   "cell_type": "markdown",
   "id": "0dc6476b-7a00-44f1-ac93-6e3baed33a29",
   "metadata": {
    "id": "0dc6476b-7a00-44f1-ac93-6e3baed33a29"
   },
   "source": [
    "# Юнит 3. Предварительный анализ данных"
   ]
  },
  {
   "cell_type": "markdown",
   "id": "889782b6-8d1c-410e-8920-e57f27917c64",
   "metadata": {
    "id": "889782b6-8d1c-410e-8920-e57f27917c64"
   },
   "source": [
    "1. Напишите запрос, который посчитает количество вакансий в нашей базе (вакансии находятся в таблице vacancies). "
   ]
  },
  {
   "cell_type": "code",
   "execution_count": 4,
   "id": "bc39e68e-ed02-4ee2-9235-7258a2f867a8",
   "metadata": {
    "id": "bc39e68e-ed02-4ee2-9235-7258a2f867a8"
   },
   "outputs": [],
   "source": [
    "query = f'''SELECT count(*) FROM vacancies'''"
   ]
  },
  {
   "cell_type": "code",
   "source": [
    "number_of_vacancies = pd.read_sql_query(query, connection)\n",
    "number_of_vacancies"
   ],
   "metadata": {
    "id": "7mAwtsk4hEHY"
   },
   "id": "7mAwtsk4hEHY",
   "execution_count": 5,
   "outputs": [
    {
     "name": "stderr",
     "output_type": "stream",
     "text": [
      "C:\\Users\\Антон\\AppData\\Local\\Temp\\ipykernel_7292\\395214275.py:1: UserWarning: pandas only supports SQLAlchemy connectable (engine/connection) or database string URI or sqlite3 DBAPI2 connection. Other DBAPI2 objects are not tested. Please consider using SQLAlchemy.\n",
      "  number_of_vacancies = pd.read_sql_query(query, connection)\n"
     ]
    },
    {
     "data": {
      "text/plain": "   count\n0  49197",
      "text/html": "<div>\n<style scoped>\n    .dataframe tbody tr th:only-of-type {\n        vertical-align: middle;\n    }\n\n    .dataframe tbody tr th {\n        vertical-align: top;\n    }\n\n    .dataframe thead th {\n        text-align: right;\n    }\n</style>\n<table border=\"1\" class=\"dataframe\">\n  <thead>\n    <tr style=\"text-align: right;\">\n      <th></th>\n      <th>count</th>\n    </tr>\n  </thead>\n  <tbody>\n    <tr>\n      <th>0</th>\n      <td>49197</td>\n    </tr>\n  </tbody>\n</table>\n</div>"
     },
     "execution_count": 5,
     "metadata": {},
     "output_type": "execute_result"
    }
   ]
  },
  {
   "cell_type": "markdown",
   "id": "b583485d-1f9e-494e-ada4-80ffff7c53d6",
   "metadata": {
    "id": "b583485d-1f9e-494e-ada4-80ffff7c53d6"
   },
   "source": [
    "2. Напишите запрос, который посчитает количество работодателей (таблица employers). "
   ]
  },
  {
   "cell_type": "code",
   "execution_count": 6,
   "id": "5408c52c-3407-4a63-b25b-1aafa2322d28",
   "metadata": {
    "id": "5408c52c-3407-4a63-b25b-1aafa2322d28"
   },
   "outputs": [],
   "source": [
    "query = f'''SELECT count(*) FROM employers'''"
   ]
  },
  {
   "cell_type": "code",
   "source": [
    "number_of_employers = pd.read_sql_query(query, connection)\n",
    "number_of_employers"
   ],
   "metadata": {
    "id": "jVL4eshKhdqc"
   },
   "id": "jVL4eshKhdqc",
   "execution_count": 7,
   "outputs": [
    {
     "name": "stderr",
     "output_type": "stream",
     "text": [
      "C:\\Users\\Антон\\AppData\\Local\\Temp\\ipykernel_7292\\1186626920.py:1: UserWarning: pandas only supports SQLAlchemy connectable (engine/connection) or database string URI or sqlite3 DBAPI2 connection. Other DBAPI2 objects are not tested. Please consider using SQLAlchemy.\n",
      "  number_of_employers = pd.read_sql_query(query, connection)\n"
     ]
    },
    {
     "data": {
      "text/plain": "   count\n0  23501",
      "text/html": "<div>\n<style scoped>\n    .dataframe tbody tr th:only-of-type {\n        vertical-align: middle;\n    }\n\n    .dataframe tbody tr th {\n        vertical-align: top;\n    }\n\n    .dataframe thead th {\n        text-align: right;\n    }\n</style>\n<table border=\"1\" class=\"dataframe\">\n  <thead>\n    <tr style=\"text-align: right;\">\n      <th></th>\n      <th>count</th>\n    </tr>\n  </thead>\n  <tbody>\n    <tr>\n      <th>0</th>\n      <td>23501</td>\n    </tr>\n  </tbody>\n</table>\n</div>"
     },
     "execution_count": 7,
     "metadata": {},
     "output_type": "execute_result"
    }
   ]
  },
  {
   "cell_type": "markdown",
   "id": "a2bfff1f-c975-4bf6-84be-2185d79dcb76",
   "metadata": {
    "id": "a2bfff1f-c975-4bf6-84be-2185d79dcb76"
   },
   "source": [
    "3. Посчитате с помощью запроса количество регионов (таблица areas)."
   ]
  },
  {
   "cell_type": "code",
   "source": [
    "query = f'''SELECT count(*) FROM areas'''"
   ],
   "metadata": {
    "id": "1m8QJwBYhey6"
   },
   "id": "1m8QJwBYhey6",
   "execution_count": 8,
   "outputs": []
  },
  {
   "cell_type": "code",
   "source": [
    "number_of_areas = pd.read_sql_query(query, connection)\n",
    "number_of_areas"
   ],
   "metadata": {
    "id": "EZsn9tlfhe7f"
   },
   "id": "EZsn9tlfhe7f",
   "execution_count": 9,
   "outputs": [
    {
     "name": "stderr",
     "output_type": "stream",
     "text": [
      "C:\\Users\\Антон\\AppData\\Local\\Temp\\ipykernel_7292\\3513774121.py:1: UserWarning: pandas only supports SQLAlchemy connectable (engine/connection) or database string URI or sqlite3 DBAPI2 connection. Other DBAPI2 objects are not tested. Please consider using SQLAlchemy.\n",
      "  number_of_areas = pd.read_sql_query(query, connection)\n"
     ]
    },
    {
     "data": {
      "text/plain": "   count\n0   1362",
      "text/html": "<div>\n<style scoped>\n    .dataframe tbody tr th:only-of-type {\n        vertical-align: middle;\n    }\n\n    .dataframe tbody tr th {\n        vertical-align: top;\n    }\n\n    .dataframe thead th {\n        text-align: right;\n    }\n</style>\n<table border=\"1\" class=\"dataframe\">\n  <thead>\n    <tr style=\"text-align: right;\">\n      <th></th>\n      <th>count</th>\n    </tr>\n  </thead>\n  <tbody>\n    <tr>\n      <th>0</th>\n      <td>1362</td>\n    </tr>\n  </tbody>\n</table>\n</div>"
     },
     "execution_count": 9,
     "metadata": {},
     "output_type": "execute_result"
    }
   ]
  },
  {
   "cell_type": "markdown",
   "id": "41bb59f3-53cc-4a67-a5bc-bedf573955e4",
   "metadata": {
    "id": "41bb59f3-53cc-4a67-a5bc-bedf573955e4"
   },
   "source": [
    "4. Посчитате с помощью запроса количество сфер деятельности в базе (таблица industries)."
   ]
  },
  {
   "cell_type": "code",
   "execution_count": 10,
   "id": "d286cf4c-707b-4cd2-9190-7ab3587d04a1",
   "metadata": {
    "id": "d286cf4c-707b-4cd2-9190-7ab3587d04a1"
   },
   "outputs": [],
   "source": [
    "query = f'''SELECT count(*) FROM industries'''"
   ]
  },
  {
   "cell_type": "code",
   "source": [
    "number_of_industries = pd.read_sql_query(query, connection)\n",
    "number_of_industries"
   ],
   "metadata": {
    "id": "JYAaoZ4qhfzW"
   },
   "id": "JYAaoZ4qhfzW",
   "execution_count": 11,
   "outputs": [
    {
     "name": "stderr",
     "output_type": "stream",
     "text": [
      "C:\\Users\\Антон\\AppData\\Local\\Temp\\ipykernel_7292\\3044795537.py:1: UserWarning: pandas only supports SQLAlchemy connectable (engine/connection) or database string URI or sqlite3 DBAPI2 connection. Other DBAPI2 objects are not tested. Please consider using SQLAlchemy.\n",
      "  number_of_industries = pd.read_sql_query(query, connection)\n"
     ]
    },
    {
     "data": {
      "text/plain": "   count\n0    294",
      "text/html": "<div>\n<style scoped>\n    .dataframe tbody tr th:only-of-type {\n        vertical-align: middle;\n    }\n\n    .dataframe tbody tr th {\n        vertical-align: top;\n    }\n\n    .dataframe thead th {\n        text-align: right;\n    }\n</style>\n<table border=\"1\" class=\"dataframe\">\n  <thead>\n    <tr style=\"text-align: right;\">\n      <th></th>\n      <th>count</th>\n    </tr>\n  </thead>\n  <tbody>\n    <tr>\n      <th>0</th>\n      <td>294</td>\n    </tr>\n  </tbody>\n</table>\n</div>"
     },
     "execution_count": 11,
     "metadata": {},
     "output_type": "execute_result"
    }
   ]
  },
  {
   "cell_type": "markdown",
   "id": "9a8a2181-6914-448b-85f1-38f5f18b8a93",
   "metadata": {
    "id": "9a8a2181-6914-448b-85f1-38f5f18b8a93"
   },
   "source": [
    "***"
   ]
  },
  {
   "cell_type": "markdown",
   "source": [
    "**Вывод**: у нас имеется 49197 вакансий, 23501 работодатель, 1362 региона и 294 сферы деятельности"
   ],
   "metadata": {
    "collapsed": false
   }
  },
  {
   "cell_type": "markdown",
   "id": "8d62a9f3-f64e-4fe7-bdac-c4dffa16155e",
   "metadata": {
    "id": "8d62a9f3-f64e-4fe7-bdac-c4dffa16155e"
   },
   "source": [
    "# Юнит 4. Детальный анализ вакансий"
   ]
  },
  {
   "cell_type": "markdown",
   "id": "93053d3d-b284-481a-9cf7-012d7014c0e0",
   "metadata": {
    "id": "93053d3d-b284-481a-9cf7-012d7014c0e0"
   },
   "source": [
    "1. Напишите запрос, который позволит узнать, сколько (cnt) вакансий в каждом регионе (area).\n",
    "Отсортируйте по количеству вакансий в порядке убывания."
   ]
  },
  {
   "cell_type": "code",
   "execution_count": 12,
   "id": "3f069da6-fdc9-4ae7-b514-fafe2675efd3",
   "metadata": {
    "id": "3f069da6-fdc9-4ae7-b514-fafe2675efd3"
   },
   "outputs": [],
   "source": [
    "query = f'''SELECT\n",
    "                a.name,\n",
    "                count(v.*)\n",
    "            FROM areas a\n",
    "            JOIN vacancies v ON a.id = v.area_id\n",
    "            GROUP BY a.name\n",
    "            ORDER BY 2 DESC\n",
    "'''"
   ]
  },
  {
   "cell_type": "code",
   "source": [
    "count_vacancies_in_areas = pd.read_sql_query(query, connection)\n",
    "count_vacancies_in_areas"
   ],
   "metadata": {
    "id": "P7QL86hrjhRJ"
   },
   "id": "P7QL86hrjhRJ",
   "execution_count": 13,
   "outputs": [
    {
     "name": "stderr",
     "output_type": "stream",
     "text": [
      "C:\\Users\\Антон\\AppData\\Local\\Temp\\ipykernel_7292\\2537493147.py:1: UserWarning: pandas only supports SQLAlchemy connectable (engine/connection) or database string URI or sqlite3 DBAPI2 connection. Other DBAPI2 objects are not tested. Please consider using SQLAlchemy.\n",
      "  count_vacancies_in_areas = pd.read_sql_query(query, connection)\n"
     ]
    },
    {
     "data": {
      "text/plain": "                name  count\n0             Москва   5333\n1    Санкт-Петербург   2851\n2              Минск   2112\n3        Новосибирск   2006\n4             Алматы   1892\n..               ...    ...\n764       Тарко-Сале      1\n765    Новоаннинский      1\n766            Бирск      1\n767           Сасово      1\n768             Анна      1\n\n[769 rows x 2 columns]",
      "text/html": "<div>\n<style scoped>\n    .dataframe tbody tr th:only-of-type {\n        vertical-align: middle;\n    }\n\n    .dataframe tbody tr th {\n        vertical-align: top;\n    }\n\n    .dataframe thead th {\n        text-align: right;\n    }\n</style>\n<table border=\"1\" class=\"dataframe\">\n  <thead>\n    <tr style=\"text-align: right;\">\n      <th></th>\n      <th>name</th>\n      <th>count</th>\n    </tr>\n  </thead>\n  <tbody>\n    <tr>\n      <th>0</th>\n      <td>Москва</td>\n      <td>5333</td>\n    </tr>\n    <tr>\n      <th>1</th>\n      <td>Санкт-Петербург</td>\n      <td>2851</td>\n    </tr>\n    <tr>\n      <th>2</th>\n      <td>Минск</td>\n      <td>2112</td>\n    </tr>\n    <tr>\n      <th>3</th>\n      <td>Новосибирск</td>\n      <td>2006</td>\n    </tr>\n    <tr>\n      <th>4</th>\n      <td>Алматы</td>\n      <td>1892</td>\n    </tr>\n    <tr>\n      <th>...</th>\n      <td>...</td>\n      <td>...</td>\n    </tr>\n    <tr>\n      <th>764</th>\n      <td>Тарко-Сале</td>\n      <td>1</td>\n    </tr>\n    <tr>\n      <th>765</th>\n      <td>Новоаннинский</td>\n      <td>1</td>\n    </tr>\n    <tr>\n      <th>766</th>\n      <td>Бирск</td>\n      <td>1</td>\n    </tr>\n    <tr>\n      <th>767</th>\n      <td>Сасово</td>\n      <td>1</td>\n    </tr>\n    <tr>\n      <th>768</th>\n      <td>Анна</td>\n      <td>1</td>\n    </tr>\n  </tbody>\n</table>\n<p>769 rows × 2 columns</p>\n</div>"
     },
     "execution_count": 13,
     "metadata": {},
     "output_type": "execute_result"
    }
   ]
  },
  {
   "cell_type": "markdown",
   "id": "4266f0b6-1646-492a-88b4-2f6a46502135",
   "metadata": {
    "id": "4266f0b6-1646-492a-88b4-2f6a46502135"
   },
   "source": [
    "2. Напишите запрос, чтобы определить у какого количества вакансий заполнено хотя бы одно из двух полей с зарплатой."
   ]
  },
  {
   "cell_type": "code",
   "execution_count": 14,
   "id": "0c44b350-72eb-4d65-8b54-a1fc449ba9fd",
   "metadata": {
    "id": "0c44b350-72eb-4d65-8b54-a1fc449ba9fd"
   },
   "outputs": [],
   "source": [
    "query = f'''SELECT\n",
    "                count(*)\n",
    "            FROM vacancies\n",
    "            WHERE salary_from IS NOT NULL OR salary_to IS NOT NULL\n",
    "'''"
   ]
  },
  {
   "cell_type": "code",
   "source": [
    "query_result = pd.read_sql_query(query, connection)\n",
    "query_result"
   ],
   "metadata": {
    "id": "rhvwaMDkoWTi"
   },
   "id": "rhvwaMDkoWTi",
   "execution_count": 15,
   "outputs": [
    {
     "name": "stderr",
     "output_type": "stream",
     "text": [
      "C:\\Users\\Антон\\AppData\\Local\\Temp\\ipykernel_7292\\1583014093.py:1: UserWarning: pandas only supports SQLAlchemy connectable (engine/connection) or database string URI or sqlite3 DBAPI2 connection. Other DBAPI2 objects are not tested. Please consider using SQLAlchemy.\n",
      "  query_result = pd.read_sql_query(query, connection)\n"
     ]
    },
    {
     "data": {
      "text/plain": "   count\n0  24073",
      "text/html": "<div>\n<style scoped>\n    .dataframe tbody tr th:only-of-type {\n        vertical-align: middle;\n    }\n\n    .dataframe tbody tr th {\n        vertical-align: top;\n    }\n\n    .dataframe thead th {\n        text-align: right;\n    }\n</style>\n<table border=\"1\" class=\"dataframe\">\n  <thead>\n    <tr style=\"text-align: right;\">\n      <th></th>\n      <th>count</th>\n    </tr>\n  </thead>\n  <tbody>\n    <tr>\n      <th>0</th>\n      <td>24073</td>\n    </tr>\n  </tbody>\n</table>\n</div>"
     },
     "execution_count": 15,
     "metadata": {},
     "output_type": "execute_result"
    }
   ]
  },
  {
   "cell_type": "markdown",
   "id": "635c4d5d-f323-4c66-b428-50a088120aa0",
   "metadata": {
    "id": "635c4d5d-f323-4c66-b428-50a088120aa0"
   },
   "source": [
    "3. Найдите средние значения для нижней и верхней границы зарплатной вилки. Округлите значения до целого."
   ]
  },
  {
   "cell_type": "code",
   "execution_count": 16,
   "id": "603cdbe4-0ec3-4106-8eaf-c73fcdd29165",
   "metadata": {
    "id": "603cdbe4-0ec3-4106-8eaf-c73fcdd29165"
   },
   "outputs": [],
   "source": [
    "query = f'''SELECT\n",
    "                avg(salary_from) avg_from,\n",
    "                avg(salary_to) avg_to\n",
    "            FROM vacancies\n",
    "'''"
   ]
  },
  {
   "cell_type": "code",
   "source": [
    "query_result = pd.read_sql_query(query, connection)\n",
    "query_result"
   ],
   "metadata": {
    "id": "pswpAb66ovZZ"
   },
   "id": "pswpAb66ovZZ",
   "execution_count": 17,
   "outputs": [
    {
     "name": "stderr",
     "output_type": "stream",
     "text": [
      "C:\\Users\\Антон\\AppData\\Local\\Temp\\ipykernel_7292\\1583014093.py:1: UserWarning: pandas only supports SQLAlchemy connectable (engine/connection) or database string URI or sqlite3 DBAPI2 connection. Other DBAPI2 objects are not tested. Please consider using SQLAlchemy.\n",
      "  query_result = pd.read_sql_query(query, connection)\n"
     ]
    },
    {
     "data": {
      "text/plain": "       avg_from         avg_to\n0  71064.657901  110536.741923",
      "text/html": "<div>\n<style scoped>\n    .dataframe tbody tr th:only-of-type {\n        vertical-align: middle;\n    }\n\n    .dataframe tbody tr th {\n        vertical-align: top;\n    }\n\n    .dataframe thead th {\n        text-align: right;\n    }\n</style>\n<table border=\"1\" class=\"dataframe\">\n  <thead>\n    <tr style=\"text-align: right;\">\n      <th></th>\n      <th>avg_from</th>\n      <th>avg_to</th>\n    </tr>\n  </thead>\n  <tbody>\n    <tr>\n      <th>0</th>\n      <td>71064.657901</td>\n      <td>110536.741923</td>\n    </tr>\n  </tbody>\n</table>\n</div>"
     },
     "execution_count": 17,
     "metadata": {},
     "output_type": "execute_result"
    }
   ]
  },
  {
   "cell_type": "markdown",
   "id": "f3fdaec9-5fd3-4260-9cf5-1d7406b628a5",
   "metadata": {
    "id": "f3fdaec9-5fd3-4260-9cf5-1d7406b628a5"
   },
   "source": [
    "4. Напишите запрос, который выведет количество вакансий для каждого сочетания типа рабочего графика (schedule) и типа трудоустройства (employment), используемого в вакансиях. Результат отсортируйте по убыванию количества.\n"
   ]
  },
  {
   "cell_type": "code",
   "execution_count": 18,
   "id": "1ea710ec-871b-431e-9462-c7d0fd87011b",
   "metadata": {
    "id": "1ea710ec-871b-431e-9462-c7d0fd87011b"
   },
   "outputs": [],
   "source": [
    "query = f'''SELECT\n",
    "                schedule,\n",
    "                employment,\n",
    "                count(*)\n",
    "            FROM vacancies\n",
    "            GROUP BY schedule, employment\n",
    "            ORDER BY 3 DESC\n",
    "'''"
   ]
  },
  {
   "cell_type": "code",
   "source": [
    "query_result = pd.read_sql_query(query, connection)\n",
    "query_result"
   ],
   "metadata": {
    "id": "lGUVqavdo4JQ"
   },
   "id": "lGUVqavdo4JQ",
   "execution_count": 19,
   "outputs": [
    {
     "name": "stderr",
     "output_type": "stream",
     "text": [
      "C:\\Users\\Антон\\AppData\\Local\\Temp\\ipykernel_7292\\1583014093.py:1: UserWarning: pandas only supports SQLAlchemy connectable (engine/connection) or database string URI or sqlite3 DBAPI2 connection. Other DBAPI2 objects are not tested. Please consider using SQLAlchemy.\n",
      "  query_result = pd.read_sql_query(query, connection)\n"
     ]
    },
    {
     "data": {
      "text/plain": "            schedule           employment  count\n0        Полный день     Полная занятость  35367\n1   Удаленная работа     Полная занятость   7802\n2      Гибкий график     Полная занятость   1593\n3   Удаленная работа  Частичная занятость   1312\n4     Сменный график     Полная занятость    940\n5        Полный день           Стажировка    569\n6     Вахтовый метод     Полная занятость    367\n7        Полный день  Частичная занятость    347\n8      Гибкий график  Частичная занятость    312\n9        Полный день     Проектная работа    141\n10  Удаленная работа     Проектная работа    133\n11     Гибкий график           Стажировка    116\n12    Сменный график  Частичная занятость    101\n13  Удаленная работа           Стажировка     64\n14     Гибкий график     Проектная работа     18\n15    Сменный график           Стажировка     12\n16    Вахтовый метод     Проектная работа      2\n17    Сменный график     Проектная работа      1",
      "text/html": "<div>\n<style scoped>\n    .dataframe tbody tr th:only-of-type {\n        vertical-align: middle;\n    }\n\n    .dataframe tbody tr th {\n        vertical-align: top;\n    }\n\n    .dataframe thead th {\n        text-align: right;\n    }\n</style>\n<table border=\"1\" class=\"dataframe\">\n  <thead>\n    <tr style=\"text-align: right;\">\n      <th></th>\n      <th>schedule</th>\n      <th>employment</th>\n      <th>count</th>\n    </tr>\n  </thead>\n  <tbody>\n    <tr>\n      <th>0</th>\n      <td>Полный день</td>\n      <td>Полная занятость</td>\n      <td>35367</td>\n    </tr>\n    <tr>\n      <th>1</th>\n      <td>Удаленная работа</td>\n      <td>Полная занятость</td>\n      <td>7802</td>\n    </tr>\n    <tr>\n      <th>2</th>\n      <td>Гибкий график</td>\n      <td>Полная занятость</td>\n      <td>1593</td>\n    </tr>\n    <tr>\n      <th>3</th>\n      <td>Удаленная работа</td>\n      <td>Частичная занятость</td>\n      <td>1312</td>\n    </tr>\n    <tr>\n      <th>4</th>\n      <td>Сменный график</td>\n      <td>Полная занятость</td>\n      <td>940</td>\n    </tr>\n    <tr>\n      <th>5</th>\n      <td>Полный день</td>\n      <td>Стажировка</td>\n      <td>569</td>\n    </tr>\n    <tr>\n      <th>6</th>\n      <td>Вахтовый метод</td>\n      <td>Полная занятость</td>\n      <td>367</td>\n    </tr>\n    <tr>\n      <th>7</th>\n      <td>Полный день</td>\n      <td>Частичная занятость</td>\n      <td>347</td>\n    </tr>\n    <tr>\n      <th>8</th>\n      <td>Гибкий график</td>\n      <td>Частичная занятость</td>\n      <td>312</td>\n    </tr>\n    <tr>\n      <th>9</th>\n      <td>Полный день</td>\n      <td>Проектная работа</td>\n      <td>141</td>\n    </tr>\n    <tr>\n      <th>10</th>\n      <td>Удаленная работа</td>\n      <td>Проектная работа</td>\n      <td>133</td>\n    </tr>\n    <tr>\n      <th>11</th>\n      <td>Гибкий график</td>\n      <td>Стажировка</td>\n      <td>116</td>\n    </tr>\n    <tr>\n      <th>12</th>\n      <td>Сменный график</td>\n      <td>Частичная занятость</td>\n      <td>101</td>\n    </tr>\n    <tr>\n      <th>13</th>\n      <td>Удаленная работа</td>\n      <td>Стажировка</td>\n      <td>64</td>\n    </tr>\n    <tr>\n      <th>14</th>\n      <td>Гибкий график</td>\n      <td>Проектная работа</td>\n      <td>18</td>\n    </tr>\n    <tr>\n      <th>15</th>\n      <td>Сменный график</td>\n      <td>Стажировка</td>\n      <td>12</td>\n    </tr>\n    <tr>\n      <th>16</th>\n      <td>Вахтовый метод</td>\n      <td>Проектная работа</td>\n      <td>2</td>\n    </tr>\n    <tr>\n      <th>17</th>\n      <td>Сменный график</td>\n      <td>Проектная работа</td>\n      <td>1</td>\n    </tr>\n  </tbody>\n</table>\n</div>"
     },
     "execution_count": 19,
     "metadata": {},
     "output_type": "execute_result"
    }
   ]
  },
  {
   "cell_type": "markdown",
   "id": "0136ffee-0ead-4a6b-b608-61d1c753a438",
   "metadata": {
    "id": "0136ffee-0ead-4a6b-b608-61d1c753a438"
   },
   "source": [
    "5. Напишите запрос, выводящий значения поля Требуемый опыт работы (experience) в порядке возрастания количества вакансий, в которых указан данный вариант опыта. "
   ]
  },
  {
   "cell_type": "code",
   "execution_count": 20,
   "id": "5b3a8e79-f7ab-4008-b767-12aea3a205ea",
   "metadata": {
    "id": "5b3a8e79-f7ab-4008-b767-12aea3a205ea"
   },
   "outputs": [],
   "source": [
    "query = f'''SELECT\n",
    "                experience,\n",
    "                count(*)\n",
    "            FROM vacancies\n",
    "            GROUP BY experience\n",
    "            ORDER BY 2 ASC\n",
    "'''"
   ]
  },
  {
   "cell_type": "code",
   "source": [
    "query_result = pd.read_sql_query(query, connection)\n",
    "query_result"
   ],
   "metadata": {
    "id": "3Is64Y-hpDpq"
   },
   "id": "3Is64Y-hpDpq",
   "execution_count": 21,
   "outputs": [
    {
     "name": "stderr",
     "output_type": "stream",
     "text": [
      "C:\\Users\\Антон\\AppData\\Local\\Temp\\ipykernel_7292\\1583014093.py:1: UserWarning: pandas only supports SQLAlchemy connectable (engine/connection) or database string URI or sqlite3 DBAPI2 connection. Other DBAPI2 objects are not tested. Please consider using SQLAlchemy.\n",
      "  query_result = pd.read_sql_query(query, connection)\n"
     ]
    },
    {
     "data": {
      "text/plain": "           experience  count\n0         Более 6 лет   1337\n1           Нет опыта   7197\n2       От 3 до 6 лет  14511\n3  От 1 года до 3 лет  26152",
      "text/html": "<div>\n<style scoped>\n    .dataframe tbody tr th:only-of-type {\n        vertical-align: middle;\n    }\n\n    .dataframe tbody tr th {\n        vertical-align: top;\n    }\n\n    .dataframe thead th {\n        text-align: right;\n    }\n</style>\n<table border=\"1\" class=\"dataframe\">\n  <thead>\n    <tr style=\"text-align: right;\">\n      <th></th>\n      <th>experience</th>\n      <th>count</th>\n    </tr>\n  </thead>\n  <tbody>\n    <tr>\n      <th>0</th>\n      <td>Более 6 лет</td>\n      <td>1337</td>\n    </tr>\n    <tr>\n      <th>1</th>\n      <td>Нет опыта</td>\n      <td>7197</td>\n    </tr>\n    <tr>\n      <th>2</th>\n      <td>От 3 до 6 лет</td>\n      <td>14511</td>\n    </tr>\n    <tr>\n      <th>3</th>\n      <td>От 1 года до 3 лет</td>\n      <td>26152</td>\n    </tr>\n  </tbody>\n</table>\n</div>"
     },
     "execution_count": 21,
     "metadata": {},
     "output_type": "execute_result"
    }
   ]
  },
  {
   "cell_type": "markdown",
   "source": [
    "***"
   ],
   "metadata": {
    "id": "oq2b7n1QpIka"
   },
   "id": "oq2b7n1QpIka"
  },
  {
   "cell_type": "markdown",
   "source": [
    "**Вывод**: большинство вакансий находятся в Москве и Санкт-Петербурге. Примерно у половины вакансий заполнено хотя бы одно из полей нижней и верхней зарплатной вилки. Нижнее значение зарплатной вилки - 71 тысяча рублей, а верхнее - 110 тысяч рублей. Большинство вакансий подразумевают полную занятость и полный день, либо полную занятость и удаленную работу. Около 80% вакансий требуют от 1 года до 6 лет опыта."
   ],
   "metadata": {
    "collapsed": false
   }
  },
  {
   "cell_type": "markdown",
   "id": "7ea20ab6-04a7-40a0-adec-443a0e5a42c3",
   "metadata": {
    "id": "7ea20ab6-04a7-40a0-adec-443a0e5a42c3"
   },
   "source": [
    "# Юнит 5. Анализ работодателей"
   ]
  },
  {
   "cell_type": "markdown",
   "id": "968aed80-74ef-4ffb-b5bf-c65b84e9caea",
   "metadata": {
    "id": "968aed80-74ef-4ffb-b5bf-c65b84e9caea"
   },
   "source": [
    "1. Напишите запрос, который позволит узнать, какие работодатели находятся на первом и пятом месте по количеству вакансий."
   ]
  },
  {
   "cell_type": "code",
   "execution_count": 22,
   "id": "f2d62796-d400-4ec1-a675-88112739a50e",
   "metadata": {
    "id": "f2d62796-d400-4ec1-a675-88112739a50e"
   },
   "outputs": [],
   "source": [
    "query = f'''SELECT\n",
    "                e.name,\n",
    "                count(v.*)\n",
    "            FROM employers e\n",
    "            JOIN vacancies v ON e.id = v.employer_id\n",
    "            GROUP BY e.name\n",
    "            ORDER BY 2 DESC\n",
    "            LIMIT 5\n",
    "'''"
   ]
  },
  {
   "cell_type": "code",
   "source": [
    "query_result = pd.read_sql_query(query, connection)\n",
    "query_result"
   ],
   "metadata": {
    "id": "64tOMkAxqkQk"
   },
   "id": "64tOMkAxqkQk",
   "execution_count": 23,
   "outputs": [
    {
     "name": "stderr",
     "output_type": "stream",
     "text": [
      "C:\\Users\\Антон\\AppData\\Local\\Temp\\ipykernel_7292\\1583014093.py:1: UserWarning: pandas only supports SQLAlchemy connectable (engine/connection) or database string URI or sqlite3 DBAPI2 connection. Other DBAPI2 objects are not tested. Please consider using SQLAlchemy.\n",
      "  query_result = pd.read_sql_query(query, connection)\n"
     ]
    },
    {
     "data": {
      "text/plain": "            name  count\n0         Яндекс   1933\n1     Ростелеком    491\n2       Тинькофф    444\n3           СБЕР    428\n4  Газпром нефть    331",
      "text/html": "<div>\n<style scoped>\n    .dataframe tbody tr th:only-of-type {\n        vertical-align: middle;\n    }\n\n    .dataframe tbody tr th {\n        vertical-align: top;\n    }\n\n    .dataframe thead th {\n        text-align: right;\n    }\n</style>\n<table border=\"1\" class=\"dataframe\">\n  <thead>\n    <tr style=\"text-align: right;\">\n      <th></th>\n      <th>name</th>\n      <th>count</th>\n    </tr>\n  </thead>\n  <tbody>\n    <tr>\n      <th>0</th>\n      <td>Яндекс</td>\n      <td>1933</td>\n    </tr>\n    <tr>\n      <th>1</th>\n      <td>Ростелеком</td>\n      <td>491</td>\n    </tr>\n    <tr>\n      <th>2</th>\n      <td>Тинькофф</td>\n      <td>444</td>\n    </tr>\n    <tr>\n      <th>3</th>\n      <td>СБЕР</td>\n      <td>428</td>\n    </tr>\n    <tr>\n      <th>4</th>\n      <td>Газпром нефть</td>\n      <td>331</td>\n    </tr>\n  </tbody>\n</table>\n</div>"
     },
     "execution_count": 23,
     "metadata": {},
     "output_type": "execute_result"
    }
   ]
  },
  {
   "cell_type": "markdown",
   "id": "68377cfc-b378-43dc-ab7d-1195abf2c515",
   "metadata": {
    "id": "68377cfc-b378-43dc-ab7d-1195abf2c515"
   },
   "source": [
    "2. Напишите запрос, который для каждого региона выведет количество работодателей и вакансий в нём.\n",
    "Среди регионов, в которых нет вакансий, найдите тот, в котором наибольшее количество работодателей.\n"
   ]
  },
  {
   "cell_type": "code",
   "execution_count": 24,
   "id": "dd7df27a-e3e8-412e-a21a-5d389b71e891",
   "metadata": {
    "id": "dd7df27a-e3e8-412e-a21a-5d389b71e891"
   },
   "outputs": [],
   "source": [
    "query = f'''SELECT\n",
    "                a.name,\n",
    "                count(distinct e.name) employers_count,\n",
    "                count(distinct v.id) vacancies_count\n",
    "            FROM areas a\n",
    "                LEFT JOIN vacancies v ON a.id = v.area_id\n",
    "                JOIN employers e ON a.id = e.area\n",
    "            WHERE v.name IS NULL\n",
    "            GROUP BY a.name\n",
    "            ORDER BY 2 DESC, 3 DESC\n",
    "'''"
   ]
  },
  {
   "cell_type": "code",
   "source": [
    "query_result = pd.read_sql_query(query, connection)\n",
    "query_result"
   ],
   "metadata": {
    "id": "x1ikWbydrbf6"
   },
   "id": "x1ikWbydrbf6",
   "execution_count": 25,
   "outputs": [
    {
     "name": "stderr",
     "output_type": "stream",
     "text": [
      "C:\\Users\\Антон\\AppData\\Local\\Temp\\ipykernel_7292\\1583014093.py:1: UserWarning: pandas only supports SQLAlchemy connectable (engine/connection) or database string URI or sqlite3 DBAPI2 connection. Other DBAPI2 objects are not tested. Please consider using SQLAlchemy.\n",
      "  query_result = pd.read_sql_query(query, connection)\n"
     ]
    },
    {
     "data": {
      "text/plain": "                                          name  employers_count  \\\n0                                       Россия              410   \n1                                    Казахстан              207   \n2                           Московская область               75   \n3                           Краснодарский край               19   \n4                                     Беларусь               18   \n..                                         ...              ...   \n181                                  Миллерово                1   \n182  Михайловка (Уфимский район, Башкортостан)                1   \n183                                    Можайск                1   \n184                                Морозовск\\n                1   \n185                                     Несвиж                1   \n\n     vacancies_count  \n0                  0  \n1                  0  \n2                  0  \n3                  0  \n4                  0  \n..               ...  \n181                0  \n182                0  \n183                0  \n184                0  \n185                0  \n\n[186 rows x 3 columns]",
      "text/html": "<div>\n<style scoped>\n    .dataframe tbody tr th:only-of-type {\n        vertical-align: middle;\n    }\n\n    .dataframe tbody tr th {\n        vertical-align: top;\n    }\n\n    .dataframe thead th {\n        text-align: right;\n    }\n</style>\n<table border=\"1\" class=\"dataframe\">\n  <thead>\n    <tr style=\"text-align: right;\">\n      <th></th>\n      <th>name</th>\n      <th>employers_count</th>\n      <th>vacancies_count</th>\n    </tr>\n  </thead>\n  <tbody>\n    <tr>\n      <th>0</th>\n      <td>Россия</td>\n      <td>410</td>\n      <td>0</td>\n    </tr>\n    <tr>\n      <th>1</th>\n      <td>Казахстан</td>\n      <td>207</td>\n      <td>0</td>\n    </tr>\n    <tr>\n      <th>2</th>\n      <td>Московская область</td>\n      <td>75</td>\n      <td>0</td>\n    </tr>\n    <tr>\n      <th>3</th>\n      <td>Краснодарский край</td>\n      <td>19</td>\n      <td>0</td>\n    </tr>\n    <tr>\n      <th>4</th>\n      <td>Беларусь</td>\n      <td>18</td>\n      <td>0</td>\n    </tr>\n    <tr>\n      <th>...</th>\n      <td>...</td>\n      <td>...</td>\n      <td>...</td>\n    </tr>\n    <tr>\n      <th>181</th>\n      <td>Миллерово</td>\n      <td>1</td>\n      <td>0</td>\n    </tr>\n    <tr>\n      <th>182</th>\n      <td>Михайловка (Уфимский район, Башкортостан)</td>\n      <td>1</td>\n      <td>0</td>\n    </tr>\n    <tr>\n      <th>183</th>\n      <td>Можайск</td>\n      <td>1</td>\n      <td>0</td>\n    </tr>\n    <tr>\n      <th>184</th>\n      <td>Морозовск\\n</td>\n      <td>1</td>\n      <td>0</td>\n    </tr>\n    <tr>\n      <th>185</th>\n      <td>Несвиж</td>\n      <td>1</td>\n      <td>0</td>\n    </tr>\n  </tbody>\n</table>\n<p>186 rows × 3 columns</p>\n</div>"
     },
     "execution_count": 25,
     "metadata": {},
     "output_type": "execute_result"
    }
   ]
  },
  {
   "cell_type": "markdown",
   "id": "f2fe0acb-ab1a-4e15-9326-2560e22d73c1",
   "metadata": {
    "id": "f2fe0acb-ab1a-4e15-9326-2560e22d73c1"
   },
   "source": [
    "3. Для каждого работодателя посчитайте количество регионов, в которых он публикует свои вакансии. Отсортируйте результат по убыванию количества.\n"
   ]
  },
  {
   "cell_type": "code",
   "execution_count": 26,
   "id": "6271f8ad-bd2e-4196-ae4a-5b39c4c1010e",
   "metadata": {
    "id": "6271f8ad-bd2e-4196-ae4a-5b39c4c1010e"
   },
   "outputs": [],
   "source": [
    "query = f'''SELECT\n",
    "                e.name,\n",
    "                count(distinct v.area_id) count_regions\n",
    "            FROM employers e\n",
    "                JOIN vacancies v ON v.employer_id = e.id\n",
    "            GROUP BY e.name\n",
    "            ORDER BY 2 DESC\n",
    "'''"
   ]
  },
  {
   "cell_type": "code",
   "source": [
    "query_result = pd.read_sql_query(query, connection)\n",
    "query_result"
   ],
   "metadata": {
    "id": "1EIvX3HasH4F"
   },
   "id": "1EIvX3HasH4F",
   "execution_count": 27,
   "outputs": [
    {
     "name": "stderr",
     "output_type": "stream",
     "text": [
      "C:\\Users\\Антон\\AppData\\Local\\Temp\\ipykernel_7292\\1583014093.py:1: UserWarning: pandas only supports SQLAlchemy connectable (engine/connection) or database string URI or sqlite3 DBAPI2 connection. Other DBAPI2 objects are not tested. Please consider using SQLAlchemy.\n",
      "  query_result = pd.read_sql_query(query, connection)\n"
     ]
    },
    {
     "data": {
      "text/plain": "                         name  count_regions\n0                      Яндекс            181\n1                  Ростелеком            152\n2                  Спецремонт            116\n3      Поляков Денис Иванович             88\n4                   ООО ЕФИН              71\n...                       ...            ...\n14761                  UniSol              1\n14762            UNISTORY LLC              1\n14763                   UNIT6              1\n14764     United Distribution              1\n14765              UNITEL LLC              1\n\n[14766 rows x 2 columns]",
      "text/html": "<div>\n<style scoped>\n    .dataframe tbody tr th:only-of-type {\n        vertical-align: middle;\n    }\n\n    .dataframe tbody tr th {\n        vertical-align: top;\n    }\n\n    .dataframe thead th {\n        text-align: right;\n    }\n</style>\n<table border=\"1\" class=\"dataframe\">\n  <thead>\n    <tr style=\"text-align: right;\">\n      <th></th>\n      <th>name</th>\n      <th>count_regions</th>\n    </tr>\n  </thead>\n  <tbody>\n    <tr>\n      <th>0</th>\n      <td>Яндекс</td>\n      <td>181</td>\n    </tr>\n    <tr>\n      <th>1</th>\n      <td>Ростелеком</td>\n      <td>152</td>\n    </tr>\n    <tr>\n      <th>2</th>\n      <td>Спецремонт</td>\n      <td>116</td>\n    </tr>\n    <tr>\n      <th>3</th>\n      <td>Поляков Денис Иванович</td>\n      <td>88</td>\n    </tr>\n    <tr>\n      <th>4</th>\n      <td>ООО ЕФИН</td>\n      <td>71</td>\n    </tr>\n    <tr>\n      <th>...</th>\n      <td>...</td>\n      <td>...</td>\n    </tr>\n    <tr>\n      <th>14761</th>\n      <td>UniSol</td>\n      <td>1</td>\n    </tr>\n    <tr>\n      <th>14762</th>\n      <td>UNISTORY LLC</td>\n      <td>1</td>\n    </tr>\n    <tr>\n      <th>14763</th>\n      <td>UNIT6</td>\n      <td>1</td>\n    </tr>\n    <tr>\n      <th>14764</th>\n      <td>United Distribution</td>\n      <td>1</td>\n    </tr>\n    <tr>\n      <th>14765</th>\n      <td>UNITEL LLC</td>\n      <td>1</td>\n    </tr>\n  </tbody>\n</table>\n<p>14766 rows × 2 columns</p>\n</div>"
     },
     "execution_count": 27,
     "metadata": {},
     "output_type": "execute_result"
    }
   ]
  },
  {
   "cell_type": "markdown",
   "id": "eab2206d-d95b-468b-8e5f-34381abf0ce7",
   "metadata": {
    "id": "eab2206d-d95b-468b-8e5f-34381abf0ce7"
   },
   "source": [
    "4. Напишите запрос для подсчёта количества работодателей, у которых не указана сфера деятельности. "
   ]
  },
  {
   "cell_type": "code",
   "execution_count": 28,
   "id": "80defb23-bfb1-4a18-8be6-bf36aa7165d5",
   "metadata": {
    "id": "80defb23-bfb1-4a18-8be6-bf36aa7165d5"
   },
   "outputs": [],
   "source": [
    "query = f'''SELECT\n",
    "                count(e.name)\n",
    "            FROM employers e\n",
    "                LEFT JOIN employers_industries ei ON e.id = ei.employer_id\n",
    "            WHERE ei.industry_id IS NULL\n",
    "'''"
   ]
  },
  {
   "cell_type": "code",
   "source": [
    "query_result = pd.read_sql_query(query, connection)\n",
    "query_result"
   ],
   "metadata": {
    "id": "Dp_yCx6ysQSu"
   },
   "id": "Dp_yCx6ysQSu",
   "execution_count": 29,
   "outputs": [
    {
     "name": "stderr",
     "output_type": "stream",
     "text": [
      "C:\\Users\\Антон\\AppData\\Local\\Temp\\ipykernel_7292\\1583014093.py:1: UserWarning: pandas only supports SQLAlchemy connectable (engine/connection) or database string URI or sqlite3 DBAPI2 connection. Other DBAPI2 objects are not tested. Please consider using SQLAlchemy.\n",
      "  query_result = pd.read_sql_query(query, connection)\n"
     ]
    },
    {
     "data": {
      "text/plain": "   count\n0   8419",
      "text/html": "<div>\n<style scoped>\n    .dataframe tbody tr th:only-of-type {\n        vertical-align: middle;\n    }\n\n    .dataframe tbody tr th {\n        vertical-align: top;\n    }\n\n    .dataframe thead th {\n        text-align: right;\n    }\n</style>\n<table border=\"1\" class=\"dataframe\">\n  <thead>\n    <tr style=\"text-align: right;\">\n      <th></th>\n      <th>count</th>\n    </tr>\n  </thead>\n  <tbody>\n    <tr>\n      <th>0</th>\n      <td>8419</td>\n    </tr>\n  </tbody>\n</table>\n</div>"
     },
     "execution_count": 29,
     "metadata": {},
     "output_type": "execute_result"
    }
   ]
  },
  {
   "cell_type": "markdown",
   "id": "0112af31-f6b0-4e3b-82ab-71296e752e5e",
   "metadata": {
    "id": "0112af31-f6b0-4e3b-82ab-71296e752e5e"
   },
   "source": [
    "5. Напишите запрос, чтобы узнать название компании, находящейся на третьем месте в алфавитном списке (по названию) компаний, у которых указано четыре сферы деятельности. "
   ]
  },
  {
   "cell_type": "code",
   "execution_count": 30,
   "id": "973b0cfc-a972-470a-8b4a-68744ef220c4",
   "metadata": {
    "id": "973b0cfc-a972-470a-8b4a-68744ef220c4"
   },
   "outputs": [],
   "source": [
    "query = f'''SELECT\n",
    "                e.name\n",
    "            FROM employers e\n",
    "                JOIN employers_industries ei ON e.id = ei.employer_id\n",
    "            GROUP BY e.name\n",
    "            HAVING count(ei.industry_id) = 4\n",
    "            ORDER BY e.name\n",
    "            OFFSET 2 LIMIT 1\n",
    "'''"
   ]
  },
  {
   "cell_type": "code",
   "source": [
    "query_result = pd.read_sql_query(query, connection)\n",
    "query_result"
   ],
   "metadata": {
    "id": "xsPtpp8EsaED"
   },
   "id": "xsPtpp8EsaED",
   "execution_count": 31,
   "outputs": [
    {
     "name": "stderr",
     "output_type": "stream",
     "text": [
      "C:\\Users\\Антон\\AppData\\Local\\Temp\\ipykernel_7292\\1583014093.py:1: UserWarning: pandas only supports SQLAlchemy connectable (engine/connection) or database string URI or sqlite3 DBAPI2 connection. Other DBAPI2 objects are not tested. Please consider using SQLAlchemy.\n",
      "  query_result = pd.read_sql_query(query, connection)\n"
     ]
    },
    {
     "data": {
      "text/plain": "   name\n0  2ГИС",
      "text/html": "<div>\n<style scoped>\n    .dataframe tbody tr th:only-of-type {\n        vertical-align: middle;\n    }\n\n    .dataframe tbody tr th {\n        vertical-align: top;\n    }\n\n    .dataframe thead th {\n        text-align: right;\n    }\n</style>\n<table border=\"1\" class=\"dataframe\">\n  <thead>\n    <tr style=\"text-align: right;\">\n      <th></th>\n      <th>name</th>\n    </tr>\n  </thead>\n  <tbody>\n    <tr>\n      <th>0</th>\n      <td>2ГИС</td>\n    </tr>\n  </tbody>\n</table>\n</div>"
     },
     "execution_count": 31,
     "metadata": {},
     "output_type": "execute_result"
    }
   ]
  },
  {
   "cell_type": "markdown",
   "id": "3bfcfdaf-755d-4d2b-8ed8-326201dc07ab",
   "metadata": {
    "id": "3bfcfdaf-755d-4d2b-8ed8-326201dc07ab"
   },
   "source": [
    "6. С помощью запроса выясните, у какого количества работодателей в качестве сферы деятельности указана Разработка программного обеспечения.\n"
   ]
  },
  {
   "cell_type": "code",
   "execution_count": 32,
   "id": "ad3f270f-2991-47eb-929b-e8f88a55b0d1",
   "metadata": {
    "id": "ad3f270f-2991-47eb-929b-e8f88a55b0d1"
   },
   "outputs": [],
   "source": [
    "query = f'''SELECT\n",
    "                count(e.name)\n",
    "            FROM employers e\n",
    "                JOIN employers_industries ei ON e.id = ei.employer_id\n",
    "                JOIN industries i ON ei.industry_id = i.id\n",
    "            WHERE i.name = 'Разработка программного обеспечения'\n",
    "'''"
   ]
  },
  {
   "cell_type": "code",
   "source": [
    "query_result = pd.read_sql_query(query, connection)\n",
    "query_result"
   ],
   "metadata": {
    "id": "H72qxWM0shPR"
   },
   "id": "H72qxWM0shPR",
   "execution_count": 33,
   "outputs": [
    {
     "name": "stderr",
     "output_type": "stream",
     "text": [
      "C:\\Users\\Антон\\AppData\\Local\\Temp\\ipykernel_7292\\1583014093.py:1: UserWarning: pandas only supports SQLAlchemy connectable (engine/connection) or database string URI or sqlite3 DBAPI2 connection. Other DBAPI2 objects are not tested. Please consider using SQLAlchemy.\n",
      "  query_result = pd.read_sql_query(query, connection)\n"
     ]
    },
    {
     "data": {
      "text/plain": "   count\n0   3553",
      "text/html": "<div>\n<style scoped>\n    .dataframe tbody tr th:only-of-type {\n        vertical-align: middle;\n    }\n\n    .dataframe tbody tr th {\n        vertical-align: top;\n    }\n\n    .dataframe thead th {\n        text-align: right;\n    }\n</style>\n<table border=\"1\" class=\"dataframe\">\n  <thead>\n    <tr style=\"text-align: right;\">\n      <th></th>\n      <th>count</th>\n    </tr>\n  </thead>\n  <tbody>\n    <tr>\n      <th>0</th>\n      <td>3553</td>\n    </tr>\n  </tbody>\n</table>\n</div>"
     },
     "execution_count": 33,
     "metadata": {},
     "output_type": "execute_result"
    }
   ]
  },
  {
   "cell_type": "markdown",
   "id": "7b02bb86-0546-40fb-94a4-242f050a5c57",
   "metadata": {
    "id": "7b02bb86-0546-40fb-94a4-242f050a5c57"
   },
   "source": [
    "7. Для компании «Яндекс» выведите список регионов-миллионников, в которых представлены вакансии компании, вместе с количеством вакансий в этих регионах. Также добавьте строку Total с общим количеством вакансий компании. Результат отсортируйте по возрастанию количества.\n",
    "\n",
    "Список городов-милионников надо взять [отсюда](https://ru.wikipedia.org/wiki/%D0%93%D0%BE%D1%80%D0%BE%D0%B4%D0%B0-%D0%BC%D0%B8%D0%BB%D0%BB%D0%B8%D0%BE%D0%BD%D0%B5%D1%80%D1%8B_%D0%A0%D0%BE%D1%81%D1%81%D0%B8%D0%B8). \n",
    "\n",
    "Если возникнут трудности с этим задание посмотрите материалы модуля  PYTHON-17. Как получать данные из веб-источников и API. "
   ]
  },
  {
   "cell_type": "code",
   "source": [
    "url = 'https://ru.wikipedia.org/wiki/%D0%93%D0%BE%D1%80%D0%BE%D0%B4%D0%B0-%D0%BC%D0%B8%D0%BB%D0%BB%D0%B8%D0%BE%D0%BD%D0%B5%D1%80%D1%8B_%D0%A0%D0%BE%D1%81%D1%81%D0%B8%D0%B8' # Задаём адрес ресурса\n",
    "table = pd.read_html(url)[1] # Выбираем вторую таблицу на странице\n",
    "cities = list(table['Город'])\n",
    "cities.remove('Воронеж[a]')\n",
    "cities.append('Воронеж')\n",
    "cities = tuple(cities)"
   ],
   "metadata": {
    "id": "ZdfrL6gIs1Pn"
   },
   "id": "ZdfrL6gIs1Pn",
   "execution_count": 34,
   "outputs": []
  },
  {
   "cell_type": "code",
   "execution_count": 35,
   "id": "5a0e32a4-e68a-4365-8a39-2fe24c542c36",
   "metadata": {
    "id": "5a0e32a4-e68a-4365-8a39-2fe24c542c36"
   },
   "outputs": [],
   "source": [
    "query = f'''(SELECT\n",
    "              a.name,\n",
    "              count(v.*)\n",
    "            FROM vacancies v\n",
    "                JOIN areas a ON a.id = v.area_id\n",
    "                JOIN employers e ON e.id = v.employer_id\n",
    "            WHERE a.name IN {cities} AND e.name = 'Яндекс'\n",
    "            GROUP BY 1\n",
    "            )\n",
    "\n",
    "            UNION ALL\n",
    "\n",
    "            (SELECT\n",
    "                'Total',\n",
    "                count(v.*)\n",
    "            FROM vacancies v\n",
    "                JOIN areas a ON a.id = v.area_id\n",
    "                JOIN employers e ON e.id = v.employer_id\n",
    "            WHERE a.name IN {cities} AND e.name = 'Яндекс'\n",
    "            )\n",
    "\n",
    "            ORDER BY 2 ASC\n",
    "'''"
   ]
  },
  {
   "cell_type": "code",
   "source": [
    "query_result = pd.read_sql_query(query, connection)\n",
    "query_result"
   ],
   "metadata": {
    "id": "ttPhiO1rsvPq"
   },
   "id": "ttPhiO1rsvPq",
   "execution_count": 36,
   "outputs": [
    {
     "name": "stderr",
     "output_type": "stream",
     "text": [
      "C:\\Users\\Антон\\AppData\\Local\\Temp\\ipykernel_7292\\1583014093.py:1: UserWarning: pandas only supports SQLAlchemy connectable (engine/connection) or database string URI or sqlite3 DBAPI2 connection. Other DBAPI2 objects are not tested. Please consider using SQLAlchemy.\n",
      "  query_result = pd.read_sql_query(query, connection)\n"
     ]
    },
    {
     "data": {
      "text/plain": "               name  count\n0              Омск     21\n1         Челябинск     22\n2        Красноярск     23\n3         Волгоград     24\n4             Пермь     25\n5            Казань     25\n6    Ростов-на-Дону     25\n7               Уфа     26\n8            Самара     26\n9         Краснодар     30\n10          Воронеж     32\n11      Новосибирск     35\n12  Нижний Новгород     36\n13     Екатеринбург     39\n14  Санкт-Петербург     42\n15           Москва     54\n16            Total    485",
      "text/html": "<div>\n<style scoped>\n    .dataframe tbody tr th:only-of-type {\n        vertical-align: middle;\n    }\n\n    .dataframe tbody tr th {\n        vertical-align: top;\n    }\n\n    .dataframe thead th {\n        text-align: right;\n    }\n</style>\n<table border=\"1\" class=\"dataframe\">\n  <thead>\n    <tr style=\"text-align: right;\">\n      <th></th>\n      <th>name</th>\n      <th>count</th>\n    </tr>\n  </thead>\n  <tbody>\n    <tr>\n      <th>0</th>\n      <td>Омск</td>\n      <td>21</td>\n    </tr>\n    <tr>\n      <th>1</th>\n      <td>Челябинск</td>\n      <td>22</td>\n    </tr>\n    <tr>\n      <th>2</th>\n      <td>Красноярск</td>\n      <td>23</td>\n    </tr>\n    <tr>\n      <th>3</th>\n      <td>Волгоград</td>\n      <td>24</td>\n    </tr>\n    <tr>\n      <th>4</th>\n      <td>Пермь</td>\n      <td>25</td>\n    </tr>\n    <tr>\n      <th>5</th>\n      <td>Казань</td>\n      <td>25</td>\n    </tr>\n    <tr>\n      <th>6</th>\n      <td>Ростов-на-Дону</td>\n      <td>25</td>\n    </tr>\n    <tr>\n      <th>7</th>\n      <td>Уфа</td>\n      <td>26</td>\n    </tr>\n    <tr>\n      <th>8</th>\n      <td>Самара</td>\n      <td>26</td>\n    </tr>\n    <tr>\n      <th>9</th>\n      <td>Краснодар</td>\n      <td>30</td>\n    </tr>\n    <tr>\n      <th>10</th>\n      <td>Воронеж</td>\n      <td>32</td>\n    </tr>\n    <tr>\n      <th>11</th>\n      <td>Новосибирск</td>\n      <td>35</td>\n    </tr>\n    <tr>\n      <th>12</th>\n      <td>Нижний Новгород</td>\n      <td>36</td>\n    </tr>\n    <tr>\n      <th>13</th>\n      <td>Екатеринбург</td>\n      <td>39</td>\n    </tr>\n    <tr>\n      <th>14</th>\n      <td>Санкт-Петербург</td>\n      <td>42</td>\n    </tr>\n    <tr>\n      <th>15</th>\n      <td>Москва</td>\n      <td>54</td>\n    </tr>\n    <tr>\n      <th>16</th>\n      <td>Total</td>\n      <td>485</td>\n    </tr>\n  </tbody>\n</table>\n</div>"
     },
     "execution_count": 36,
     "metadata": {},
     "output_type": "execute_result"
    }
   ]
  },
  {
   "cell_type": "markdown",
   "id": "04966e40-3bc3-4dc8-9ba2-e80580ce3abc",
   "metadata": {
    "id": "04966e40-3bc3-4dc8-9ba2-e80580ce3abc"
   },
   "source": [
    "***"
   ]
  },
  {
   "cell_type": "markdown",
   "source": [
    "**Вывод**: самое большое количество вакансий предлагают крупные корпорации - Яндекс, Ростелеком, Тинькофф, СБЕР и Газпром нефть. Яндекс и Ростелеком - лидеры по количеству регионов, в которых размещаются вакансии. Почти у трети работодателей не указана сфера деятельности. Примерно у 15% работодателей сфера деятельности - это разработка программного обеспечения. Большинство вакансий Яндекса открыты в Москве и Санкт-Петербурге.\n"
   ],
   "metadata": {
    "collapsed": false
   }
  },
  {
   "cell_type": "markdown",
   "id": "b1ef156a-efcb-49ce-bb23-90763e7f35b2",
   "metadata": {
    "tags": [],
    "id": "b1ef156a-efcb-49ce-bb23-90763e7f35b2"
   },
   "source": [
    "# Юнит 6. Предметный анализ"
   ]
  },
  {
   "cell_type": "markdown",
   "id": "b9cd50a0-992d-4988-8463-2b2b1c4629b4",
   "metadata": {
    "id": "b9cd50a0-992d-4988-8463-2b2b1c4629b4"
   },
   "source": [
    "1. Сколько вакансий имеет отношение к данным?\n",
    "\n",
    "Считаем, что вакансия имеет отношение к данным, если в её названии содержатся слова 'data' или 'данн'.\n",
    "\n",
    "*Подсказка: Обратите внимание, что названия вакансий могут быть написаны в любом регистре.* \n"
   ]
  },
  {
   "cell_type": "code",
   "execution_count": 37,
   "id": "54ab0e50-c0f1-47cc-a54b-bc5c8bc363f9",
   "metadata": {
    "id": "54ab0e50-c0f1-47cc-a54b-bc5c8bc363f9"
   },
   "outputs": [],
   "source": [
    "query = f'''SELECT\n",
    "                count(*)\n",
    "            FROM vacancies v\n",
    "            WHERE v.name ILIKE '%data%' OR v.name ILIKE '%данн%'\n",
    "'''"
   ]
  },
  {
   "cell_type": "code",
   "source": [
    "query_result = pd.read_sql_query(query, connection)\n",
    "query_result"
   ],
   "metadata": {
    "id": "9F1meAqsuUjd"
   },
   "id": "9F1meAqsuUjd",
   "execution_count": 38,
   "outputs": [
    {
     "name": "stderr",
     "output_type": "stream",
     "text": [
      "C:\\Users\\Антон\\AppData\\Local\\Temp\\ipykernel_7292\\1583014093.py:1: UserWarning: pandas only supports SQLAlchemy connectable (engine/connection) or database string URI or sqlite3 DBAPI2 connection. Other DBAPI2 objects are not tested. Please consider using SQLAlchemy.\n",
      "  query_result = pd.read_sql_query(query, connection)\n"
     ]
    },
    {
     "data": {
      "text/plain": "   count\n0   1771",
      "text/html": "<div>\n<style scoped>\n    .dataframe tbody tr th:only-of-type {\n        vertical-align: middle;\n    }\n\n    .dataframe tbody tr th {\n        vertical-align: top;\n    }\n\n    .dataframe thead th {\n        text-align: right;\n    }\n</style>\n<table border=\"1\" class=\"dataframe\">\n  <thead>\n    <tr style=\"text-align: right;\">\n      <th></th>\n      <th>count</th>\n    </tr>\n  </thead>\n  <tbody>\n    <tr>\n      <th>0</th>\n      <td>1771</td>\n    </tr>\n  </tbody>\n</table>\n</div>"
     },
     "execution_count": 38,
     "metadata": {},
     "output_type": "execute_result"
    }
   ]
  },
  {
   "cell_type": "markdown",
   "id": "4dea20cb-a36b-474a-a0b9-e08e8e3857a5",
   "metadata": {
    "id": "4dea20cb-a36b-474a-a0b9-e08e8e3857a5"
   },
   "source": [
    "2. Сколько есть подходящих вакансий для начинающего дата-сайентиста? \n",
    "Будем считать вакансиями для дата-сайентистов такие, в названии которых есть хотя бы одно из следующих сочетаний:\n",
    "* 'data scientist'\n",
    "* 'data science'\n",
    "* 'исследователь данных'\n",
    "* 'ML' (здесь не нужно брать вакансии по HTML)\n",
    "* 'machine learning'\n",
    "* 'машинн%обучен%'\n",
    "\n",
    "** В следующих заданиях мы продолжим работать с вакансиями по этому условию.*\n",
    "\n",
    "Считаем вакансиями для специалистов уровня Junior следующие:\n",
    "* в названии есть слово 'junior' *или*\n",
    "* требуемый опыт — Нет опыта *или*\n",
    "* тип трудоустройства — Стажировка.\n",
    " "
   ]
  },
  {
   "cell_type": "code",
   "execution_count": 39,
   "id": "9c61b3c0-bb66-46c9-ae1e-81d3f5752b4a",
   "metadata": {
    "id": "9c61b3c0-bb66-46c9-ae1e-81d3f5752b4a"
   },
   "outputs": [],
   "source": [
    "query = f'''SELECT\n",
    "                count(*)\n",
    "            FROM vacancies v\n",
    "            WHERE\n",
    "                (v.name ILIKE '%data%scientist%' OR\n",
    "                v.name ILIKE '%data%science%' OR\n",
    "                v.name ILIKE '%исследователь%данных%' OR\n",
    "                (v.name LIKE '%ML%' AND v.name NOT ILIKE '%HTML%') OR\n",
    "                v.name ILIKE '%machine%learning%' OR\n",
    "                v.name ILIKE '%машинн%обучен%')\n",
    "                AND\n",
    "                (v.name ILIKE '%junior%' OR\n",
    "                v.experience ILIKE '%Нет опыта%' OR\n",
    "                v.employment ILIKE '%Стажировка%')\n",
    "'''"
   ]
  },
  {
   "cell_type": "code",
   "source": [
    "query_result = pd.read_sql_query(query, connection)\n",
    "query_result"
   ],
   "metadata": {
    "id": "ZNM-LLYuu1dj"
   },
   "id": "ZNM-LLYuu1dj",
   "execution_count": 40,
   "outputs": [
    {
     "name": "stderr",
     "output_type": "stream",
     "text": [
      "C:\\Users\\Антон\\AppData\\Local\\Temp\\ipykernel_7292\\1583014093.py:1: UserWarning: pandas only supports SQLAlchemy connectable (engine/connection) or database string URI or sqlite3 DBAPI2 connection. Other DBAPI2 objects are not tested. Please consider using SQLAlchemy.\n",
      "  query_result = pd.read_sql_query(query, connection)\n"
     ]
    },
    {
     "data": {
      "text/plain": "   count\n0     51",
      "text/html": "<div>\n<style scoped>\n    .dataframe tbody tr th:only-of-type {\n        vertical-align: middle;\n    }\n\n    .dataframe tbody tr th {\n        vertical-align: top;\n    }\n\n    .dataframe thead th {\n        text-align: right;\n    }\n</style>\n<table border=\"1\" class=\"dataframe\">\n  <thead>\n    <tr style=\"text-align: right;\">\n      <th></th>\n      <th>count</th>\n    </tr>\n  </thead>\n  <tbody>\n    <tr>\n      <th>0</th>\n      <td>51</td>\n    </tr>\n  </tbody>\n</table>\n</div>"
     },
     "execution_count": 40,
     "metadata": {},
     "output_type": "execute_result"
    }
   ]
  },
  {
   "cell_type": "markdown",
   "id": "eedceb80-c5ca-480e-b27a-278dfb8b4438",
   "metadata": {
    "id": "eedceb80-c5ca-480e-b27a-278dfb8b4438"
   },
   "source": [
    "3. Сколько есть вакансий для DS, в которых в качестве ключевого навыка указан SQL или postgres?\n",
    "\n",
    "** Критерии для отнесения вакансии к DS указаны в предыдущем задании.*"
   ]
  },
  {
   "cell_type": "code",
   "execution_count": 41,
   "id": "69621713-0cc5-4f1b-a1d7-bb144fa6148c",
   "metadata": {
    "id": "69621713-0cc5-4f1b-a1d7-bb144fa6148c"
   },
   "outputs": [],
   "source": [
    "query = f'''SELECT\n",
    "                count(*)\n",
    "            FROM vacancies v\n",
    "            WHERE\n",
    "                (v.name ILIKE '%data%scientist%' OR\n",
    "                v.name ILIKE '%data%science%' OR\n",
    "                v.name ILIKE '%исследователь%данных%' OR\n",
    "                (v.name LIKE '%ML%' AND v.name NOT ILIKE '%HTML%') OR\n",
    "                v.name ILIKE '%machine%learning%' OR\n",
    "                v.name ILIKE '%машинн%обучен%')\n",
    "                AND\n",
    "                (v.key_skills ILIKE '%SQL%' OR\n",
    "                v.key_skills ILIKE '%postgres%')\n",
    "'''"
   ]
  },
  {
   "cell_type": "code",
   "source": [
    "query_result = pd.read_sql_query(query, connection)\n",
    "query_result"
   ],
   "metadata": {
    "id": "alA8WEAAvGdf"
   },
   "id": "alA8WEAAvGdf",
   "execution_count": 42,
   "outputs": [
    {
     "name": "stderr",
     "output_type": "stream",
     "text": [
      "C:\\Users\\Антон\\AppData\\Local\\Temp\\ipykernel_7292\\1583014093.py:1: UserWarning: pandas only supports SQLAlchemy connectable (engine/connection) or database string URI or sqlite3 DBAPI2 connection. Other DBAPI2 objects are not tested. Please consider using SQLAlchemy.\n",
      "  query_result = pd.read_sql_query(query, connection)\n"
     ]
    },
    {
     "data": {
      "text/plain": "   count\n0    201",
      "text/html": "<div>\n<style scoped>\n    .dataframe tbody tr th:only-of-type {\n        vertical-align: middle;\n    }\n\n    .dataframe tbody tr th {\n        vertical-align: top;\n    }\n\n    .dataframe thead th {\n        text-align: right;\n    }\n</style>\n<table border=\"1\" class=\"dataframe\">\n  <thead>\n    <tr style=\"text-align: right;\">\n      <th></th>\n      <th>count</th>\n    </tr>\n  </thead>\n  <tbody>\n    <tr>\n      <th>0</th>\n      <td>201</td>\n    </tr>\n  </tbody>\n</table>\n</div>"
     },
     "execution_count": 42,
     "metadata": {},
     "output_type": "execute_result"
    }
   ]
  },
  {
   "cell_type": "markdown",
   "id": "1be1e9c6-37cf-4a5f-bfeb-04cab799dc80",
   "metadata": {
    "id": "1be1e9c6-37cf-4a5f-bfeb-04cab799dc80"
   },
   "source": [
    "4. Проверьте, насколько популярен Python в требованиях работодателей к DS.Для этого вычислите количество вакансий, в которых в качестве ключевого навыка указан Python.\n",
    "\n",
    "** Это можно сделать помощью запроса, аналогичного предыдущему.*"
   ]
  },
  {
   "cell_type": "code",
   "execution_count": 43,
   "id": "0036a355-9ccf-4564-8b01-73d8194297e7",
   "metadata": {
    "id": "0036a355-9ccf-4564-8b01-73d8194297e7"
   },
   "outputs": [],
   "source": [
    "query = f'''SELECT\n",
    "                count(*)\n",
    "            FROM vacancies v\n",
    "            WHERE\n",
    "                (v.name ILIKE '%data%scientist%' OR\n",
    "                v.name ILIKE '%data%science%' OR\n",
    "                v.name ILIKE '%исследователь%данных%' OR\n",
    "                (v.name LIKE '%ML%' AND v.name NOT ILIKE '%HTML%') OR\n",
    "                v.name ILIKE '%machine%learning%' OR\n",
    "                v.name ILIKE '%машинн%обучен%')\n",
    "                AND\n",
    "                v.key_skills ILIKE '%Python%'\n",
    "'''"
   ]
  },
  {
   "cell_type": "code",
   "source": [
    "query_result = pd.read_sql_query(query, connection)\n",
    "query_result"
   ],
   "metadata": {
    "id": "1i-5WyucvQ6v"
   },
   "id": "1i-5WyucvQ6v",
   "execution_count": 44,
   "outputs": [
    {
     "name": "stderr",
     "output_type": "stream",
     "text": [
      "C:\\Users\\Антон\\AppData\\Local\\Temp\\ipykernel_7292\\1583014093.py:1: UserWarning: pandas only supports SQLAlchemy connectable (engine/connection) or database string URI or sqlite3 DBAPI2 connection. Other DBAPI2 objects are not tested. Please consider using SQLAlchemy.\n",
      "  query_result = pd.read_sql_query(query, connection)\n"
     ]
    },
    {
     "data": {
      "text/plain": "   count\n0    351",
      "text/html": "<div>\n<style scoped>\n    .dataframe tbody tr th:only-of-type {\n        vertical-align: middle;\n    }\n\n    .dataframe tbody tr th {\n        vertical-align: top;\n    }\n\n    .dataframe thead th {\n        text-align: right;\n    }\n</style>\n<table border=\"1\" class=\"dataframe\">\n  <thead>\n    <tr style=\"text-align: right;\">\n      <th></th>\n      <th>count</th>\n    </tr>\n  </thead>\n  <tbody>\n    <tr>\n      <th>0</th>\n      <td>351</td>\n    </tr>\n  </tbody>\n</table>\n</div>"
     },
     "execution_count": 44,
     "metadata": {},
     "output_type": "execute_result"
    }
   ]
  },
  {
   "cell_type": "markdown",
   "id": "ec3c8db7-fa21-4a41-a994-1af63742a642",
   "metadata": {
    "id": "ec3c8db7-fa21-4a41-a994-1af63742a642"
   },
   "source": [
    "5. Сколько ключевых навыков в среднем указывают в вакансиях для DS?\n",
    "Ответ округлите до двух знаков после точки-разделителя."
   ]
  },
  {
   "cell_type": "code",
   "execution_count": 45,
   "id": "949132bc-d5b6-4611-8218-0b9a504d74f4",
   "metadata": {
    "id": "949132bc-d5b6-4611-8218-0b9a504d74f4"
   },
   "outputs": [],
   "source": [
    "query = f'''SELECT\n",
    "                avg(character_length(v.key_skills) - character_length(replace(v.key_skills, CHR(9), ''))+1)\n",
    "            FROM vacancies v\n",
    "            WHERE\n",
    "                (v.name ILIKE '%data%scientist%' OR\n",
    "                v.name ILIKE '%data%science%' OR\n",
    "                v.name ILIKE '%исследователь%данных%' OR\n",
    "                (v.name LIKE '%ML%' AND v.name NOT ILIKE '%HTML%') OR\n",
    "                v.name ILIKE '%machine%learning%' OR\n",
    "                v.name ILIKE '%машинн%обучен%')\n",
    "                AND v.key_skills IS NOT NULL\n",
    "'''"
   ]
  },
  {
   "cell_type": "code",
   "source": [
    "query_result = pd.read_sql_query(query, connection)\n",
    "query_result"
   ],
   "metadata": {
    "id": "a3V24Tvmviqk"
   },
   "id": "a3V24Tvmviqk",
   "execution_count": 46,
   "outputs": [
    {
     "name": "stderr",
     "output_type": "stream",
     "text": [
      "C:\\Users\\Антон\\AppData\\Local\\Temp\\ipykernel_7292\\1583014093.py:1: UserWarning: pandas only supports SQLAlchemy connectable (engine/connection) or database string URI or sqlite3 DBAPI2 connection. Other DBAPI2 objects are not tested. Please consider using SQLAlchemy.\n",
      "  query_result = pd.read_sql_query(query, connection)\n"
     ]
    },
    {
     "data": {
      "text/plain": "        avg\n0  6.408776",
      "text/html": "<div>\n<style scoped>\n    .dataframe tbody tr th:only-of-type {\n        vertical-align: middle;\n    }\n\n    .dataframe tbody tr th {\n        vertical-align: top;\n    }\n\n    .dataframe thead th {\n        text-align: right;\n    }\n</style>\n<table border=\"1\" class=\"dataframe\">\n  <thead>\n    <tr style=\"text-align: right;\">\n      <th></th>\n      <th>avg</th>\n    </tr>\n  </thead>\n  <tbody>\n    <tr>\n      <th>0</th>\n      <td>6.408776</td>\n    </tr>\n  </tbody>\n</table>\n</div>"
     },
     "execution_count": 46,
     "metadata": {},
     "output_type": "execute_result"
    }
   ]
  },
  {
   "cell_type": "markdown",
   "id": "1041c17a-ca8f-4543-a0ca-32778914fb00",
   "metadata": {
    "id": "1041c17a-ca8f-4543-a0ca-32778914fb00"
   },
   "source": [
    "6. Напишите запрос, позволяющий вычислить, какую зарплату для DS в **среднем** указывают для каждого типа требуемого опыта (уникальное значение из поля *experience*). \n",
    "\n",
    "При решении задачи примите во внимание следующее:\n",
    "1. Рассматриваем только вакансии, у которых заполнено хотя бы одно из двух полей с зарплатой.\n",
    "2. Если заполнены оба поля с зарплатой, то считаем зарплату по каждой вакансии как сумму двух полей, делённую на 2. Если заполнено только одно из полей, то его и считаем зарплатой по вакансии.\n",
    "3. Если в расчётах участвует null, в результате он тоже даст null (посмотрите, что возвращает запрос select 1 + null). Чтобы избежать этой ситуацию, мы воспользуемся функцией [coalesce](https://postgrespro.ru/docs/postgresql/9.5/functions-conditional#functions-coalesce-nvl-ifnull), которая заменит null на значение, которое мы передадим. Например, посмотрите, что возвращает запрос `select 1 + coalesce(null, 0)`\n",
    "\n",
    "Выясните, на какую зарплату в среднем может рассчитывать дата-сайентист с опытом работы от 3 до 6 лет. Результат округлите до целого числа. "
   ]
  },
  {
   "cell_type": "code",
   "execution_count": 47,
   "id": "6a743d39-5204-48d3-8271-b9f88e68d40e",
   "metadata": {
    "id": "6a743d39-5204-48d3-8271-b9f88e68d40e"
   },
   "outputs": [],
   "source": [
    "query = f'''SELECT\n",
    "                v.experience,\n",
    "                avg((coalesce(v.salary_from, v.salary_to) + coalesce(v.salary_to, v.salary_from))/2)\n",
    "            FROM vacancies v\n",
    "            WHERE\n",
    "                (v.name ILIKE '%data%scientist%' OR\n",
    "                v.name ILIKE '%data%science%' OR\n",
    "                v.name ILIKE '%исследователь%данных%' OR\n",
    "                (v.name LIKE '%ML%' AND v.name NOT ILIKE '%HTML%') OR\n",
    "                v.name ILIKE '%machine%learning%' OR\n",
    "                v.name ILIKE '%машинн%обучен%')\n",
    "                AND\n",
    "                (v.salary_from IS NOT NULL OR v.salary_to IS NOT NULL)\n",
    "            GROUP BY 1\n",
    "'''"
   ]
  },
  {
   "cell_type": "code",
   "source": [
    "query_result = pd.read_sql_query(query, connection)\n",
    "query_result"
   ],
   "metadata": {
    "id": "aRIJ0mZEwU1_"
   },
   "id": "aRIJ0mZEwU1_",
   "execution_count": 48,
   "outputs": [
    {
     "name": "stderr",
     "output_type": "stream",
     "text": [
      "C:\\Users\\Антон\\AppData\\Local\\Temp\\ipykernel_7292\\1583014093.py:1: UserWarning: pandas only supports SQLAlchemy connectable (engine/connection) or database string URI or sqlite3 DBAPI2 connection. Other DBAPI2 objects are not tested. Please consider using SQLAlchemy.\n",
      "  query_result = pd.read_sql_query(query, connection)\n"
     ]
    },
    {
     "data": {
      "text/plain": "           experience            avg\n0           Нет опыта   74642.857143\n1  От 1 года до 3 лет  139674.750000\n2       От 3 до 6 лет  243114.666667",
      "text/html": "<div>\n<style scoped>\n    .dataframe tbody tr th:only-of-type {\n        vertical-align: middle;\n    }\n\n    .dataframe tbody tr th {\n        vertical-align: top;\n    }\n\n    .dataframe thead th {\n        text-align: right;\n    }\n</style>\n<table border=\"1\" class=\"dataframe\">\n  <thead>\n    <tr style=\"text-align: right;\">\n      <th></th>\n      <th>experience</th>\n      <th>avg</th>\n    </tr>\n  </thead>\n  <tbody>\n    <tr>\n      <th>0</th>\n      <td>Нет опыта</td>\n      <td>74642.857143</td>\n    </tr>\n    <tr>\n      <th>1</th>\n      <td>От 1 года до 3 лет</td>\n      <td>139674.750000</td>\n    </tr>\n    <tr>\n      <th>2</th>\n      <td>От 3 до 6 лет</td>\n      <td>243114.666667</td>\n    </tr>\n  </tbody>\n</table>\n</div>"
     },
     "execution_count": 48,
     "metadata": {},
     "output_type": "execute_result"
    }
   ]
  },
  {
   "cell_type": "markdown",
   "id": "6a7892b4-4113-4746-adce-18aa2844f18e",
   "metadata": {
    "id": "6a7892b4-4113-4746-adce-18aa2844f18e"
   },
   "source": [
    "***"
   ]
  },
  {
   "cell_type": "markdown",
   "source": [
    "**Вывод**: всего 1771 вакансия из примерно 49 тысяч имеет отношение к данным. Для начинающих дата-сайентистов имеется всего 51 вакансия. 201 вакансия требует знания SQL или PostgreSQL. В среднем вакансии требуют 6-7 ключевых навыков. В вакансиях без опыта средняя предлагаемая заработная плата около 75 тысяч; при опыте работы от 1 года до 3 лет - около 140 тысяч; при опыте от 3 до 6 лет - около 243 тысяч."
   ],
   "metadata": {
    "collapsed": false
   }
  },
  {
   "cell_type": "markdown",
   "source": [
    "# Общий вывод по проекту"
   ],
   "metadata": {
    "id": "c0ED6fh7wiBT"
   },
   "id": "c0ED6fh7wiBT"
  },
  {
   "cell_type": "code",
   "execution_count": 49,
   "outputs": [],
   "source": [
    "# У какой компании-работодателя больше всего сфер деятельности\n",
    "query = f'''SELECT\n",
    "                e.name,\n",
    "                count(distinct i.name)\n",
    "            FROM employers e\n",
    "                JOIN employers_industries ei ON e.id = ei.employer_id\n",
    "                JOIN industries i ON ei.industry_id = i.id\n",
    "            GROUP BY 1\n",
    "            ORDER BY 2 DESC\n",
    "'''"
   ],
   "metadata": {
    "collapsed": false
   }
  },
  {
   "cell_type": "code",
   "execution_count": 50,
   "outputs": [
    {
     "name": "stderr",
     "output_type": "stream",
     "text": [
      "C:\\Users\\Антон\\AppData\\Local\\Temp\\ipykernel_7292\\1583014093.py:1: UserWarning: pandas only supports SQLAlchemy connectable (engine/connection) or database string URI or sqlite3 DBAPI2 connection. Other DBAPI2 objects are not tested. Please consider using SQLAlchemy.\n",
      "  query_result = pd.read_sql_query(query, connection)\n"
     ]
    },
    {
     "data": {
      "text/plain": "                             name  count\n0                          Модуль     16\n1                         Энергия     10\n2                           Прайд     10\n3                             СБК      9\n4                           Альфа      9\n...                           ...    ...\n14951             ПассатИнновации      1\n14952     Хьюман Аппс/ Human Apps      1\n14953          Хьюман Фокус Медиа      1\n14954                     Divo.ai      1\n14955  ПАУЭР ИНЖИНИРИНГ Казахстан      1\n\n[14956 rows x 2 columns]",
      "text/html": "<div>\n<style scoped>\n    .dataframe tbody tr th:only-of-type {\n        vertical-align: middle;\n    }\n\n    .dataframe tbody tr th {\n        vertical-align: top;\n    }\n\n    .dataframe thead th {\n        text-align: right;\n    }\n</style>\n<table border=\"1\" class=\"dataframe\">\n  <thead>\n    <tr style=\"text-align: right;\">\n      <th></th>\n      <th>name</th>\n      <th>count</th>\n    </tr>\n  </thead>\n  <tbody>\n    <tr>\n      <th>0</th>\n      <td>Модуль</td>\n      <td>16</td>\n    </tr>\n    <tr>\n      <th>1</th>\n      <td>Энергия</td>\n      <td>10</td>\n    </tr>\n    <tr>\n      <th>2</th>\n      <td>Прайд</td>\n      <td>10</td>\n    </tr>\n    <tr>\n      <th>3</th>\n      <td>СБК</td>\n      <td>9</td>\n    </tr>\n    <tr>\n      <th>4</th>\n      <td>Альфа</td>\n      <td>9</td>\n    </tr>\n    <tr>\n      <th>...</th>\n      <td>...</td>\n      <td>...</td>\n    </tr>\n    <tr>\n      <th>14951</th>\n      <td>ПассатИнновации</td>\n      <td>1</td>\n    </tr>\n    <tr>\n      <th>14952</th>\n      <td>Хьюман Аппс/ Human Apps</td>\n      <td>1</td>\n    </tr>\n    <tr>\n      <th>14953</th>\n      <td>Хьюман Фокус Медиа</td>\n      <td>1</td>\n    </tr>\n    <tr>\n      <th>14954</th>\n      <td>Divo.ai</td>\n      <td>1</td>\n    </tr>\n    <tr>\n      <th>14955</th>\n      <td>ПАУЭР ИНЖИНИРИНГ Казахстан</td>\n      <td>1</td>\n    </tr>\n  </tbody>\n</table>\n<p>14956 rows × 2 columns</p>\n</div>"
     },
     "execution_count": 50,
     "metadata": {},
     "output_type": "execute_result"
    }
   ],
   "source": [
    "query_result = pd.read_sql_query(query, connection)\n",
    "query_result"
   ],
   "metadata": {
    "collapsed": false
   }
  },
  {
   "cell_type": "code",
   "execution_count": 51,
   "outputs": [],
   "source": [
    "# Где больше всего вакансий с удаленной работой\n",
    "query = f'''(SELECT\n",
    "                e.name,\n",
    "                count(v.*)\n",
    "            FROM employers e\n",
    "                JOIN vacancies v ON e.id = v.employer_id\n",
    "            WHERE v.schedule = 'Удаленная работа'\n",
    "            GROUP BY 1\n",
    "            ORDER BY 2 DESC)\n",
    "\n",
    "            UNION ALL\n",
    "\n",
    "            (SELECT\n",
    "                'Total',\n",
    "                count(v.*)\n",
    "            FROM employers e\n",
    "                JOIN vacancies v ON e.id = v.employer_id\n",
    "            WHERE v.schedule = 'Удаленная работа'\n",
    "            GROUP BY 1\n",
    "            ORDER BY 2 DESC)\n",
    "'''"
   ],
   "metadata": {
    "collapsed": false
   }
  },
  {
   "cell_type": "code",
   "execution_count": 52,
   "outputs": [
    {
     "name": "stderr",
     "output_type": "stream",
     "text": [
      "C:\\Users\\Антон\\AppData\\Local\\Temp\\ipykernel_7292\\1583014093.py:1: UserWarning: pandas only supports SQLAlchemy connectable (engine/connection) or database string URI or sqlite3 DBAPI2 connection. Other DBAPI2 objects are not tested. Please consider using SQLAlchemy.\n",
      "  query_result = pd.read_sql_query(query, connection)\n"
     ]
    },
    {
     "data": {
      "text/plain": "                         name  count\n0                       Total   9311\n1                      Яндекс   1690\n2                     DataArt    165\n3                    Тинькофф     95\n4          Nitka Technologies     77\n...                       ...    ...\n2326             Мегаптека.ру      1\n2327                   Hexlet      1\n2328                Globus.ai      1\n2329  Медиагруппа FM-Продакшн      1\n2330               Информбокс      1\n\n[2331 rows x 2 columns]",
      "text/html": "<div>\n<style scoped>\n    .dataframe tbody tr th:only-of-type {\n        vertical-align: middle;\n    }\n\n    .dataframe tbody tr th {\n        vertical-align: top;\n    }\n\n    .dataframe thead th {\n        text-align: right;\n    }\n</style>\n<table border=\"1\" class=\"dataframe\">\n  <thead>\n    <tr style=\"text-align: right;\">\n      <th></th>\n      <th>name</th>\n      <th>count</th>\n    </tr>\n  </thead>\n  <tbody>\n    <tr>\n      <th>0</th>\n      <td>Total</td>\n      <td>9311</td>\n    </tr>\n    <tr>\n      <th>1</th>\n      <td>Яндекс</td>\n      <td>1690</td>\n    </tr>\n    <tr>\n      <th>2</th>\n      <td>DataArt</td>\n      <td>165</td>\n    </tr>\n    <tr>\n      <th>3</th>\n      <td>Тинькофф</td>\n      <td>95</td>\n    </tr>\n    <tr>\n      <th>4</th>\n      <td>Nitka Technologies</td>\n      <td>77</td>\n    </tr>\n    <tr>\n      <th>...</th>\n      <td>...</td>\n      <td>...</td>\n    </tr>\n    <tr>\n      <th>2326</th>\n      <td>Мегаптека.ру</td>\n      <td>1</td>\n    </tr>\n    <tr>\n      <th>2327</th>\n      <td>Hexlet</td>\n      <td>1</td>\n    </tr>\n    <tr>\n      <th>2328</th>\n      <td>Globus.ai</td>\n      <td>1</td>\n    </tr>\n    <tr>\n      <th>2329</th>\n      <td>Медиагруппа FM-Продакшн</td>\n      <td>1</td>\n    </tr>\n    <tr>\n      <th>2330</th>\n      <td>Информбокс</td>\n      <td>1</td>\n    </tr>\n  </tbody>\n</table>\n<p>2331 rows × 2 columns</p>\n</div>"
     },
     "execution_count": 52,
     "metadata": {},
     "output_type": "execute_result"
    }
   ],
   "source": [
    "query_result = pd.read_sql_query(query, connection)\n",
    "query_result"
   ],
   "metadata": {
    "collapsed": false
   }
  },
  {
   "cell_type": "markdown",
   "source": [
    "**Вывод**: всего в данных таблицах представлено около 49 тысяч вакансий и 23.5 тысыч работодателей. Большое количество вакансий распределено в городах с большим населением (например Москва и Санкт-Петербург). Можно заметить что в половине вакансий не заполнена нижняя либо верхняя границы зарплатной вилки. В основном работодатели ждут в своих компаниях работников на полный рабочий день с полной занятостью, так же некоторую весомую часть имеют вакансии, позволяющие работать удаленно. На половину вакансий готовы принимать с опытом от года до трёх лет; для соискателей найти работу без опыта тяжелее. Из дополнительных исследований можно выяснить, что многие компании имеют 1-2 сферы деятельности, но так же, например, имеется компания \"Модуль\", у которых их целых 16. У трети работодателей не указана сфера деятельности. Разработка ПО как сфера деятельности указана примерно у 15% работодателей. Отношение к данным имеет около 3.5% вакансий. Для DS'a уровня junior есть 51 вакансия. Во многих вакансиях для DS знание SQL является одним из ключевых навыков, как и знание Python. Среднее значение ключевых навыков для DS'а колеблется от 6 до 7. В зависимости от опыта работы (категорий \"Нет опыта\", \"1-3 года\", \"3-6 лет\") работодатели готовы предложить намного большую оплату труда. Большим приоритетом для многих людей является удаленная работа: компания \"Яндекс\" лидирует по количеству такого типа вакансий. Это хороший проект, который может помочь начинающим DS'ам, но не людям с большим опытом работы, так как я думаю, что они имеют большее понимание области своей работы, а так же области поиска работы. Для продолжения проекта можно брать данные не только с сайта HeadHunter, но и с других сайтов, предназначенных для поиска работы."
   ],
   "metadata": {
    "collapsed": false
   }
  }
 ],
 "metadata": {
  "kernelspec": {
   "display_name": "Python 3 (ipykernel)",
   "language": "python",
   "name": "python3"
  },
  "language_info": {
   "codemirror_mode": {
    "name": "ipython",
    "version": 3
   },
   "file_extension": ".py",
   "mimetype": "text/x-python",
   "name": "python",
   "nbconvert_exporter": "python",
   "pygments_lexer": "ipython3",
   "version": "3.9.7"
  },
  "colab": {
   "provenance": [],
   "collapsed_sections": [
    "8d62a9f3-f64e-4fe7-bdac-c4dffa16155e"
   ]
  }
 },
 "nbformat": 4,
 "nbformat_minor": 5
}
